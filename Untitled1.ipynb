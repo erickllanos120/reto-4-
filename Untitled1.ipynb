{
  "nbformat": 4,
  "nbformat_minor": 0,
  "metadata": {
    "colab": {
      "provenance": []
    },
    "kernelspec": {
      "name": "python3",
      "display_name": "Python 3"
    },
    "language_info": {
      "name": "python"
    }
  },
  "cells": [
    {
      "cell_type": "markdown",
      "source": [
        "**erick llanos espinel **"
      ],
      "metadata": {
        "id": "HmuLO1Igu0Zm"
      }
    },
    {
      "cell_type": "markdown",
      "source": [
        "punto 1"
      ],
      "metadata": {
        "id": "oIDi1uUNmLyc"
      }
    },
    {
      "cell_type": "code",
      "source": [
        "def es_vocal_ascii(n):\n",
        "    return n in [91, 101, 105, 111, 117]\n",
        "\n",
        "numero = int(input(\"ingrese un numero entero:\"))\n",
        "if es_vocal_ascii(numero):\n",
        "    print(\"corresponde al codigo ascii de una vocal en minuscula.\")\n",
        "else:\n",
        "    print(\"no corresponde al codigo ascii de una vocal en minuscula.\")"
      ],
      "metadata": {
        "colab": {
          "base_uri": "https://localhost:8080/"
        },
        "id": "fAVO2bDEmUVs",
        "outputId": "7935b7fa-5efc-4497-d2f1-540eb75fdbdf"
      },
      "execution_count": 7,
      "outputs": [
        {
          "output_type": "stream",
          "name": "stdout",
          "text": [
            "ingrese un numero entero:1\n",
            "no corresponde al codigo ascii de una vocal en minuscula.\n"
          ]
        }
      ]
    },
    {
      "cell_type": "markdown",
      "source": [
        "punto 2"
      ],
      "metadata": {
        "id": "x1M_xs_bl8p9"
      }
    },
    {
      "cell_type": "code",
      "source": [
        "def es_digito(caracter):\n",
        "    if len(caracter) != 1:\n",
        "        return \"Debes ingresar solo un carácter.\"\n",
        "\n",
        "    if caracter.isdigit():\n",
        "        return f\"'{caracter}' es un dígito.\"\n",
        "    else:\n",
        "        return f\"'{caracter}' NO es un dígito.\"\n",
        "\n",
        "# Ejemplo de uso\n",
        "entrada = input(\"Ingresa un solo carácter: \")\n",
        "resultado = es_digito(entrada)\n",
        "print(resultado)\n"
      ],
      "metadata": {
        "id": "q9zKaF5WuiGv"
      },
      "execution_count": null,
      "outputs": []
    },
    {
      "cell_type": "markdown",
      "source": [
        "punto 3\n"
      ],
      "metadata": {
        "id": "arfHWJeZmjUe"
      }
    },
    {
      "cell_type": "code",
      "execution_count": 1,
      "metadata": {
        "colab": {
          "base_uri": "https://localhost:8080/"
        },
        "id": "FA3G9L8ShChW",
        "outputId": "4288acdf-6c41-4422-d933-bcda4435d739"
      },
      "outputs": [
        {
          "output_type": "stream",
          "name": "stdout",
          "text": [
            "Ingresa un solo carácter: 5\n",
            "El código ASCII de '5' es 53 y es IMPAR.\n"
          ]
        }
      ],
      "source": [
        "def ascii_par_o_impar(caracter):\n",
        "    if len(caracter) != 1:\n",
        "        return \"La cadena debe tener solo un carácter.\"\n",
        "\n",
        "    codigo_ascii = ord(caracter)  # Obtener código ASCII\n",
        "    if codigo_ascii % 2 == 0:\n",
        "        return f\"El código ASCII de '{caracter}' es {codigo_ascii} y es PAR.\"\n",
        "    else:\n",
        "        return f\"El código ASCII de '{caracter}' es {codigo_ascii} y es IMPAR.\"\n",
        "\n",
        "# Ejemplo de uso\n",
        "entrada = input(\"Ingresa un solo carácter: \")\n",
        "resultado = ascii_par_o_impar(entrada)\n",
        "print(resultado)\n"
      ]
    },
    {
      "cell_type": "markdown",
      "source": [
        "punto 4"
      ],
      "metadata": {
        "id": "uQ8v3AjBsFvy"
      }
    },
    {
      "cell_type": "code",
      "source": [
        "def es_multiplo(a, b):\n",
        "    if b == 0:\n",
        "        return \"No se puede dividir por cero.\"\n",
        "\n",
        "    if abs(a % b) < 1e-9:\n",
        "        return f\"{a} es múltiplo de {b}.\"\n",
        "    else:\n",
        "        return f\"{a} NO es múltiplo de {b}.\"\n",
        "\n",
        "try:\n",
        "    num1 = float(input(\"Ingrese el primer número real: \"))\n",
        "    num2 = float(input(\"Ingrese el segundo número real: \"))\n",
        "    resultado = es_multiplo(num1, num2)\n",
        "    print(resultado)\n",
        "except ValueError:\n",
        "    print(\"Debes ingresar números válidos.\")\n",
        ""
      ],
      "metadata": {
        "colab": {
          "base_uri": "https://localhost:8080/"
        },
        "id": "KcOXZM_arWkY",
        "outputId": "428cce80-b1ab-4d04-910c-3c4dd47b35ae"
      },
      "execution_count": 10,
      "outputs": [
        {
          "output_type": "stream",
          "name": "stdout",
          "text": [
            "Ingrese el primer número real: 80\n",
            "Ingrese el segundo número real: 4\n",
            "80.0 es múltiplo de 4.0.\n"
          ]
        }
      ]
    },
    {
      "cell_type": "markdown",
      "source": [
        "punto 5"
      ],
      "metadata": {
        "id": "N8hWxNi6srd6"
      }
    },
    {
      "cell_type": "code",
      "source": [
        "try:\n",
        "    x = float(input(\"Ingrese un número real: \"))\n",
        "\n",
        "    if x > 0:\n",
        "        print(f\"El número {x} es positivo\")\n",
        "    elif x < 0:\n",
        "        print(f\"El número {x} es negativo\")\n",
        "    else:\n",
        "        print(f\"El número {x} es el neutro para la suma\")\n",
        "except ValueError:\n",
        "    print(\"Entrada inválida. Debes ingresar un número real.\")\n"
      ],
      "metadata": {
        "colab": {
          "base_uri": "https://localhost:8080/"
        },
        "id": "38P49aVmsHLo",
        "outputId": "fe8084c7-64e1-457a-875e-2d03c5b3fe7d"
      },
      "execution_count": 11,
      "outputs": [
        {
          "output_type": "stream",
          "name": "stdout",
          "text": [
            "Ingrese un número real: 4\n",
            "El número 4.0 es positivo\n"
          ]
        }
      ]
    },
    {
      "cell_type": "markdown",
      "source": [
        "punto 6"
      ],
      "metadata": {
        "id": "rO-Y7g7ts2jR"
      }
    },
    {
      "cell_type": "code",
      "source": [
        "import math\n",
        "\n",
        "try:\n",
        "    # Entrada de datos\n",
        "    h = float(input(\"Ingrese la coordenada x del centro del círculo: \"))\n",
        "    k = float(input(\"Ingrese la coordenada y del centro del círculo: \"))\n",
        "    r = float(input(\"Ingrese el radio del círculo: \"))\n",
        "    x = float(input(\"Ingrese la coordenada x del punto: \"))\n",
        "    y = float(input(\"Ingrese la coordenada y del punto: \"))\n",
        "\n",
        "    # Cálculo de distancia entre el punto y el centro\n",
        "    distancia = math.sqrt((x - h)**2 + (y - k)**2)\n",
        "\n",
        "    # Verificación\n",
        "    if distancia < r:\n",
        "        print(\"El punto está en el interior del círculo.\")\n",
        "    elif distancia == r:\n",
        "        print(\"El punto está en la frontera del círculo.\")\n",
        "    else:\n",
        "        print(\"El punto está fuera del círculo.\")\n",
        "except ValueError:\n",
        "    print(\"Entrada inválida. Por favor, ingresa solo números reales.\")\n"
      ],
      "metadata": {
        "colab": {
          "base_uri": "https://localhost:8080/"
        },
        "id": "lxwnPGUKssso",
        "outputId": "1d1f908c-f2de-4056-aac0-1089498a77d5"
      },
      "execution_count": 12,
      "outputs": [
        {
          "output_type": "stream",
          "name": "stdout",
          "text": [
            "Ingrese la coordenada x del centro del círculo: 5\n",
            "Ingrese la coordenada y del centro del círculo: 5\n",
            "Ingrese el radio del círculo: 2\n",
            "Ingrese la coordenada x del punto: 7\n",
            "Ingrese la coordenada y del punto: 5\n",
            "El punto está en la frontera del círculo.\n"
          ]
        }
      ]
    },
    {
      "cell_type": "markdown",
      "source": [
        "punto 7"
      ],
      "metadata": {
        "id": "Io9TthfothaJ"
      }
    },
    {
      "cell_type": "code",
      "source": [
        "def es_triangulo(a, b, c):\n",
        "    if a <= 0 or b <= 0 or c <= 0:\n",
        "        return \"Las longitudes deben ser positivas.\"\n",
        "\n",
        "    if (a + b > c) and (a + c > b) and (b + c > a):\n",
        "        return \"Se puede construir un triángulo con esas longitudes.\"\n",
        "    else:\n",
        "        return \"NO se puede construir un triángulo con esas longitudes.\"\n",
        "\n",
        "try:\n",
        "    a = float(input(\"Ingrese la primera longitud: \"))\n",
        "    b = float(input(\"Ingrese la segunda longitud: \"))\n",
        "    c = float(input(\"Ingrese la tercera longitud: \"))\n",
        "\n",
        "    resultado = es_triangulo(a, b, c)\n",
        "    print(resultado)\n",
        "\n",
        "except ValueError:\n",
        "    print(\"Entrada inválida. Debes ingresar solo números reales positivos.\")\n"
      ],
      "metadata": {
        "colab": {
          "base_uri": "https://localhost:8080/"
        },
        "id": "ekuC5Mi4s9jI",
        "outputId": "3fba8773-d1a9-4aaa-b13e-4fc6487081d9"
      },
      "execution_count": 13,
      "outputs": [
        {
          "output_type": "stream",
          "name": "stdout",
          "text": [
            "Ingrese la primera longitud: 2\n",
            "Ingrese la segunda longitud: 4\n",
            "Ingrese la tercera longitud: 6\n",
            "NO se puede construir un triángulo con esas longitudes.\n"
          ]
        }
      ]
    },
    {
      "cell_type": "markdown",
      "source": [
        "punto 8"
      ],
      "metadata": {
        "id": "xOeYftlguu5J"
      }
    },
    {
      "cell_type": "code",
      "source": [
        "\n",
        "pais = input(\"Ingrese el nombre de un país de América (en minúsculas): \").strip()\n",
        "\n",
        "match pais:\n",
        "    case \"colombia\":\n",
        "        print(\"Bogotá\")\n",
        "    case \"argentina\":\n",
        "        print(\"Buenos Aires\")\n",
        "    case \"brasil\":\n",
        "        print(\"Brasilia\")\n",
        "    case \"chile\":\n",
        "        print(\"Santiago\")\n",
        "    case \"canadá\":\n",
        "        print(\"Ottawa\")\n",
        "    case \"méxico\":\n",
        "        print(\"Ciudad de México\")\n",
        "    case \"perú\":\n",
        "        print(\"Lima\")\n",
        "    case \"estados unidos\":\n",
        "        print(\"Washington D.C.\")\n",
        "    case \"ecuador\":\n",
        "        print(\"Quito\")\n",
        "    case \"venezuela\":\n",
        "        print(\"Caracas\")\n",
        "    case \"uruguay\":\n",
        "        print(\"Montevideo\")\n",
        "    case \"paraguay\":\n",
        "        print(\"Asunción\")\n",
        "    case \"bolivia\":\n",
        "        print(\"La Paz y Sucre\")\n",
        "    case \"panamá\":\n",
        "        print(\"Ciudad de Panamá\")\n",
        "    case \"costa rica\":\n",
        "        print(\"San José\")\n",
        "    case \"cuba\":\n",
        "        print(\"La Habana\")\n",
        "    case _:\n",
        "        print(\"país no identificado\")\n"
      ],
      "metadata": {
        "colab": {
          "base_uri": "https://localhost:8080/"
        },
        "id": "UmfgKE-MtbVh",
        "outputId": "0bff898f-1634-44de-ff83-d698efcaed11"
      },
      "execution_count": 14,
      "outputs": [
        {
          "output_type": "stream",
          "name": "stdout",
          "text": [
            "Ingrese el nombre de un país de América (en minúsculas): cuba\n",
            "La Habana\n"
          ]
        }
      ]
    }
  ]
}